{
  "nbformat": 4,
  "nbformat_minor": 0,
  "metadata": {
    "colab": {
      "name": "FitVerse-Analysis-ArpitKharbanda.ipynb",
      "provenance": [],
      "collapsed_sections": [],
      "authorship_tag": "ABX9TyPn1JNchUB793i932Zd9/Mq",
      "include_colab_link": true
    },
    "kernelspec": {
      "name": "python3",
      "display_name": "Python 3"
    }
  },
  "cells": [
    {
      "cell_type": "markdown",
      "metadata": {
        "id": "view-in-github",
        "colab_type": "text"
      },
      "source": [
        "<a href=\"https://colab.research.google.com/github/webivorous/FitVerse/blob/master/FitVerse-Analysis-ArpitKharbanda.ipynb\" target=\"_parent\"><img src=\"https://colab.research.google.com/assets/colab-badge.svg\" alt=\"Open In Colab\"/></a>"
      ]
    },
    {
      "cell_type": "markdown",
      "metadata": {
        "id": "nR_-70zUmG4O",
        "colab_type": "text"
      },
      "source": [
        "# Importing the spreadsheet containing the list of food items and their nutritional values"
      ]
    },
    {
      "cell_type": "code",
      "metadata": {
        "id": "z3RO7iGamEWE",
        "colab_type": "code",
        "colab": {}
      },
      "source": [
        "import gdown\n",
        "from zipfile import ZipFile\n",
        "gdown.download('https://drive.google.com/uc?export=download&id=1y9gMZtiEUfZJXUm5K4ut3hxmacmWPxsP', 'sls_data.zip', quiet=True)\n",
        "\n",
        "with ZipFile('sls_data.zip', 'r') as zipObj:\n",
        "   zipObj.extractall()"
      ],
      "execution_count": 0,
      "outputs": []
    },
    {
      "cell_type": "markdown",
      "metadata": {
        "id": "0dgXWCNvdzKb",
        "colab_type": "text"
      },
      "source": [
        "# Importing Libraries and forming dataframes from the CSV file imported"
      ]
    },
    {
      "cell_type": "code",
      "metadata": {
        "id": "IzQK2m-HWOtJ",
        "colab_type": "code",
        "colab": {}
      },
      "source": [
        "import random\n",
        "import pandas as pd\n",
        "import matplotlib.pyplot as plt\n",
        "from pandas import DataFrame"
      ],
      "execution_count": 0,
      "outputs": []
    },
    {
      "cell_type": "code",
      "metadata": {
        "id": "oIQl-m3KWza2",
        "colab_type": "code",
        "colab": {}
      },
      "source": [
        "data = pd.read_csv(\"food.csv\")\n",
        "weeklyCalories = 1800 * 7\n",
        "\n",
        "food = data['Food']\n",
        "calories = data['Calories']\n",
        "utility = data['Utility']\n",
        "carbo = data['Carbohydrate']\n",
        "fat = data['Fat']\n",
        "protein = data['Protein']"
      ],
      "execution_count": 0,
      "outputs": []
    },
    {
      "cell_type": "code",
      "metadata": {
        "id": "l0R4japQWunc",
        "colab_type": "code",
        "colab": {}
      },
      "source": [
        "populationSize = 50\n",
        "numberOfGenerations = 100\n",
        "crossOverRate = 0.5\n",
        "rateOfMutation = 0.01\n",
        "\n",
        "currentGen = []\n",
        "currentBestSolution = []\n",
        "highestScoreList = []\n",
        "averageScoreList = []\n",
        "\n",
        "#Initialise a Population\n",
        "listofones = [1]*21\n",
        "listofzeros = [0]*(len(food)-21)\n",
        "\n",
        "for i in range (populationSize):\n",
        "    currentGen. append(listofones + listofzeros)\n",
        "    random.shuffle(currentGen[i])"
      ],
      "execution_count": 0,
      "outputs": []
    },
    {
      "cell_type": "markdown",
      "metadata": {
        "id": "ldngSES3d6rC",
        "colab_type": "text"
      },
      "source": [
        "# Genetic Algorithm Modelling "
      ]
    },
    {
      "cell_type": "code",
      "metadata": {
        "id": "t0eVjuWhW5NO",
        "colab_type": "code",
        "colab": {}
      },
      "source": [
        "for g in range (numberOfGenerations):\n",
        "    \n",
        "    fitnessScore = [0]*populationSize\n",
        "    normalisedFitnessScore = [0]*populationSize\n",
        "    totalPolulationFitnessScore = 0\n",
        "    highestScore = 0\n",
        "    nextGen = []\n",
        "    newGen = []\n",
        "\n",
        "    # Perform Evaluation of Fitness Score\n",
        "    for i in range (populationSize):\n",
        "        totalCalories = 0\n",
        "        for j in range (len(food)):\n",
        "            fitnessScore[i] += currentGen[i][j] * utility[j]\n",
        "            totalCalories += currentGen[i][j] * calories[j]\n",
        "        if totalCalories > weeklyCalories:\n",
        "            fitnessScore[i] += weeklyCalories - totalCalories\n",
        "        if fitnessScore[i] > highestScore:\n",
        "            currentBestSolutionIndex = i\n",
        "            highestScore = fitnessScore[i]\n",
        "\n",
        "        totalPolulationFitnessScore += fitnessScore[i]\n",
        "        \n",
        "    highestScoreList.append(highestScore)\n",
        "    averageScoreList.append(totalPolulationFitnessScore/populationSize)    \n",
        "    currentBestSolution = currentGen[currentBestSolutionIndex].copy()\n",
        "\n",
        "    for i in range (populationSize):\n",
        "        normalisedFitnessScore[i] = fitnessScore[i]/totalPolulationFitnessScore\n",
        "\n",
        "    #Perform Selection\n",
        "    for i in range (populationSize):\n",
        "        cumulativeNormalisedFitnessScore = 0\n",
        "        rwScore = random.uniform(0, 1)\n",
        "        for j in range (populationSize):\n",
        "            cumulativeNormalisedFitnessScore += normalisedFitnessScore[j]\n",
        "            if cumulativeNormalisedFitnessScore >= rwScore:\n",
        "                nextGen.append(currentGen[j].copy())\n",
        "                break    \n",
        "\n",
        "    #Perform Cross Over\n",
        "    for i in range (int(populationSize/2)):\n",
        "        if crossOverRate > random.uniform(0, 1):\n",
        "\n",
        "            randomNumber1 = random.randint(0, len(food)-1)\n",
        "            randomNumber2 = random.randint(0, len(food)-1)\n",
        "\n",
        "            if randomNumber1 > randomNumber2:\n",
        "                crossOverPoint1 = randomNumber2\n",
        "                crossOverPoint2 = randomNumber1\n",
        "            else:\n",
        "                crossOverPoint1 = randomNumber1\n",
        "                crossOverPoint2 = randomNumber2\n",
        "\n",
        "            child1 = nextGen[i][0:crossOverPoint1] + nextGen[i+int(populationSize/2)][crossOverPoint1:crossOverPoint2] + nextGen[i][crossOverPoint2:]\n",
        "            child2 = nextGen[i+int(populationSize/2)][0:crossOverPoint1] + nextGen[i][crossOverPoint1:crossOverPoint2] + nextGen[i+int(populationSize/2)][crossOverPoint2:]\n",
        "\n",
        "            nextGen[i] = child1.copy()\n",
        "            nextGen[i+int(populationSize/2)] = child2.copy()\n",
        "\n",
        "    #Perform Mutation\n",
        "    for i in range (populationSize):\n",
        "        for j in range (len(food)):\n",
        "            if rateOfMutation > random.uniform(0, 1):\n",
        "                nextGen[i][j] = abs(nextGen[i][j] - 1)\n",
        "\n",
        "    #Adjust bits back to zero\n",
        "    for i in range (populationSize):\n",
        "        bitsToAdjust = sum(nextGen[i]) - 21\n",
        "\n",
        "        if bitsToAdjust > 0:\n",
        "            for j in range (bitsToAdjust):\n",
        "                index = random.randint(0, len(food)-1)\n",
        "                notFound = True\n",
        "                while notFound:\n",
        "                    if nextGen[i][index] == 1:\n",
        "                        nextGen[i][index] = 0\n",
        "                        notFound = False\n",
        "                    else:\n",
        "                        index += 1\n",
        "                        index  = index%len(food)\n",
        "        elif bitsToAdjust < 0:\n",
        "            for j in range (abs(bitsToAdjust)):\n",
        "                index = random.randint(0, len(food)-1)\n",
        "                notFound = True\n",
        "                while notFound:\n",
        "                    if nextGen[i][index] == 0:\n",
        "                        nextGen[i][index] = 1\n",
        "                        notFound = False\n",
        "                    else:\n",
        "                        index += 1\n",
        "                        index  = index%len(food) \n",
        "    \n",
        "    #Forming a new Generation by getting fitest half from currentGen and fitest half from nextGen\n",
        "    for i in range (populationSize):\n",
        "        count = 0\n",
        "        for j in range (populationSize):\n",
        "            if fitnessScore[i] > fitnessScore[j]:\n",
        "                count += 1\n",
        "        if count >= int(populationSize/2):\n",
        "            newGen.append(currentGen[i].copy())\n",
        "    \n",
        "    fitnessScore = [0]*populationSize\n",
        "  \n",
        "    for i in range (populationSize):\n",
        "        totalCalories = 0\n",
        "        for j in range (len(food)):\n",
        "            fitnessScore[i] += nextGen[i][j] * utility[j]\n",
        "            totalCalories += nextGen[i][j] * calories[j]\n",
        "        if totalCalories > weeklyCalories:\n",
        "            fitnessScore[i] += weeklyCalories - totalCalories\n",
        "    \n",
        "    for i in range (populationSize):\n",
        "        count = 0\n",
        "        for j in range (populationSize):\n",
        "            if fitnessScore[i] > fitnessScore[j]:\n",
        "                count += 1\n",
        "        if count >= int(populationSize/2):\n",
        "            newGen.append(nextGen[i].copy())\n",
        "            \n",
        "    for i in range (populationSize-len(newGen)):\n",
        "        newGen.append(nextGen[random.randint(0, populationSize-1)].copy())\n",
        "    \n",
        "    currentGen = newGen.copy()"
      ],
      "execution_count": 0,
      "outputs": []
    },
    {
      "cell_type": "code",
      "metadata": {
        "id": "4yA-wNwYXHN0",
        "colab_type": "code",
        "colab": {
          "base_uri": "https://localhost:8080/",
          "height": 657
        },
        "outputId": "311aad35-b625-468f-c3b2-259afe095923"
      },
      "source": [
        "print(\"Highest Fitness Score:\", highestScore) \n",
        "print(\"Average Polulation Fitness Score:\", totalPolulationFitnessScore/populationSize)\n",
        "print(\"Total Polulation Fitness Score:\", totalPolulationFitnessScore)\n",
        "\n",
        "plt.figure(figsize=(20,10))\n",
        "plt.plot(highestScoreList, label='Highest Fitness Score')\n",
        "plt.plot(averageScoreList, label = 'Average Population Fitness Score')\n",
        "plt.ylabel('Fitness Score')\n",
        "plt.xlabel('Number of Generations')\n",
        "plt.legend(loc='lower right')\n",
        "plt.show()"
      ],
      "execution_count": 19,
      "outputs": [
        {
          "output_type": "stream",
          "text": [
            "Highest Fitness Score: 1490\n",
            "Average Polulation Fitness Score: 1480.8\n",
            "Total Polulation Fitness Score: 74040\n"
          ],
          "name": "stdout"
        },
        {
          "output_type": "display_data",
          "data": {
            "image/png": "[encoded data removed]",
            "text/plain": [
              "<Figure size 1440x720 with 1 Axes>"
            ]
          },
          "metadata": {
            "tags": []
          }
        }
      ]
    },
    {
      "cell_type": "code",
      "metadata": {
        "id": "XuFmHc93XNOx",
        "colab_type": "code",
        "colab": {
          "base_uri": "https://localhost:8080/",
          "height": 403
        },
        "outputId": "0026fc83-e8d3-415d-b2e6-83b2f84dbc65"
      },
      "source": [
        "print(\"Recommended Menu for the week:\\n\")\n",
        "\n",
        "totalcalories = 0\n",
        "for i in range (len(food)):\n",
        "    if currentBestSolution[i] == 1:\n",
        "        totalcalories += calories[i]\n",
        "        print(food[i])\n"
      ],
      "execution_count": 22,
      "outputs": [
        {
          "output_type": "stream",
          "text": [
            "Recommended Menu for the week:\n",
            "\n",
            "FLAMICHE(100g)\n",
            "SAMOSA(4pcs)\n",
            "CHICKEN(90g)\n",
            "FISH(90g)\n",
            "MILK CHOCLATE(53g)\n",
            "SALAD(400g)\n",
            "RED WINE(1.5fl oz)\n",
            "COKE(12oz)\n",
            "Fruit Cake\n",
            "Noodles\n",
            "Pasta(150g)\n",
            "Cherry Pie\n",
            "Truffle\n",
            "Dumpling(1 bowl)\n",
            "Strudle(100gm)\n",
            "Rye Bread\n",
            "Pasties de Nata\n",
            "pizza(general)\n",
            "chole Bhature\n",
            "Pav bhaji\n",
            "Jalebi\n"
          ],
          "name": "stdout"
        }
      ]
    }
  ]
}